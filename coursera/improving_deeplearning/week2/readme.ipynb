{
 "cells": [
  {
   "cell_type": "markdown",
   "metadata": {
    "collapsed": true,
    "pycharm": {
     "name": "#%% md\n"
    }
   },
   "source": [
    "## Gradient momentum\n",
    "\n",
    "$$V_t = \\beta_1V_{t-1} + (1-\\beta)\\theta_t$$\n",
    "$$\\beta_1 = 0.9\n",
    "\n",
    "Moving weighted average. A value for (1-0.9) = 0.1 seem to average\n",
    "over the last 10 results.\n",
    "\n",
    "\n",
    "## Root Mean Squared Props\n",
    "\n",
    "## Adam\n",
    " Gradient momentum + Root Mean Squared\n",
    "\n",
    "## Learning rate decay\n",
    "\n",
    "## Local optima\n",
    "\n",
    "![Local Optima](./local_optima.png)\n",
    "\n",
    "Local optima in multi dimensional spaces are more like saddles and not little little pits.\n",
    "\n",
    "\n"
   ]
  }
 ],
 "metadata": {
  "kernelspec": {
   "display_name": "Python 3",
   "language": "python",
   "name": "python3"
  },
  "language_info": {
   "codemirror_mode": {
    "name": "ipython",
    "version": 2
   },
   "file_extension": ".py",
   "mimetype": "text/x-python",
   "name": "python",
   "nbconvert_exporter": "python",
   "pygments_lexer": "ipython2",
   "version": "2.7.6"
  }
 },
 "nbformat": 4,
 "nbformat_minor": 0
}
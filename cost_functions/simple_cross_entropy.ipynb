{
 "cells": [
  {
   "cell_type": "markdown",
   "metadata": {},
   "source": [
    "$$-\\sum ylog\\hat{y}$$\n",
    "\n",
    "y = the test value 1 or 0 a binary clasification\n",
    "\n",
    "$\\hat{y}$ = The predicted probability between 0-1"
   ]
  },
  {
   "cell_type": "code",
   "execution_count": 20,
   "metadata": {
    "pycharm": {
     "name": "#%%\n"
    }
   },
   "outputs": [
    {
     "name": "stdout",
     "output_type": "stream",
     "text": [
      "0.6931471805599448\n"
     ]
    }
   ],
   "source": [
    "import numpy as np\n",
    "\n",
    "def cross_entropy(y, yhat):\n",
    "        # use eps to avoid 0 for logs\n",
    "        eps = np.finfo(float).eps\n",
    "        return -np.sum(y * np.log(yhat + eps))\n",
    "\n",
    "y = np.array([1,0,0])\n",
    "y_hat = np.array([0.5,0.2,0]\n",
    "                 )\n",
    "\n",
    "print(\n",
    "    cross_entropy(y.T, y_hat)\n",
    ")"
   ]
  },
  {
   "cell_type": "code",
   "execution_count": 26,
   "outputs": [],
   "source": [
    "import tensorflow as tf\n",
    "\n",
    "x = tf.constant([[0.4,0.2, 0.1]])\n",
    "y = tf.constant([[1, 0, 0]])\n",
    "\n",
    "w = tf.Variable(tf.zeros([3,1]))\n",
    "yy = tf.linalg.matmul(w, x)\n",
    "\n",
    "cost = cross_entropy(y, yy)"
   ],
   "metadata": {
    "collapsed": false,
    "pycharm": {
     "name": "#%%\n"
    }
   }
  },
  {
   "cell_type": "code",
   "execution_count": null,
   "outputs": [],
   "source": [],
   "metadata": {
    "collapsed": false,
    "pycharm": {
     "name": "#%%\n"
    }
   }
  }
 ],
 "metadata": {
  "kernelspec": {
   "display_name": "Python 3",
   "language": "python",
   "name": "python3"
  },
  "language_info": {
   "codemirror_mode": {
    "name": "ipython",
    "version": 3
   },
   "file_extension": ".py",
   "mimetype": "text/x-python",
   "name": "python",
   "nbconvert_exporter": "python",
   "pygments_lexer": "ipython3",
   "version": "3.8.0"
  }
 },
 "nbformat": 4,
 "nbformat_minor": 1
}
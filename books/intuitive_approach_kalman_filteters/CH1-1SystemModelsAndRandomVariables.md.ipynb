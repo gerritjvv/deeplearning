{
 "cells": [
  {
   "cell_type": "markdown",
   "metadata": {
    "collapsed": true,
    "pycharm": {
     "name": "#%% md\n"
    }
   },
   "source": [
    "# 1.1 Deterministic And Random Models and Variables\n",
    "\n",
    "Histograms are used to characterise random variables.\n",
    "To show % of probabilities normalise the values.\n",
    "\n",
    "     e.g If 12 values from a sample of total size 1000\n",
    "         use 12/1000 as the box height in the histogram.\n",
    "         This is called a normalised histogram, and each box shows\n",
    "         the % probability of a random value have the range of values that\n",
    "         the box represents.\n",
    "\n",
    "  The total sum of probabilities should be 1, which is equal to the sum\n",
    "  of all areas fo each bar. Having bar width 1 simplifies this.\n"
   ]
  },
  {
   "cell_type": "code",
   "execution_count": 16,
   "outputs": [
    {
     "name": "stdout",
     "output_type": "stream",
     "text": [
      "[ 0.76304114  0.90099721 -0.12972092  1.70454388 -0.63278499 -0.35845347\n",
      "  0.11173273  0.62877044  0.25071772  0.98859221]\n"
     ]
    },
    {
     "data": {
      "text/plain": "<Figure size 432x288 with 1 Axes>",
      "image/png": "[encoded data removed]"
     },
     "metadata": {
      "needs_background": "light"
     },
     "output_type": "display_data"
    }
   ],
   "source": [
    "import matplotlib.pyplot as plt\n",
    "import numpy as np\n",
    "\n",
    "## For random samples from N(\\mu, \\sigma^2), use:\n",
    "# sigma * np.random.randn(...) + mu\n",
    "\n",
    "x = np.squeeze(np.random.randn(1, 1000))\n",
    "\n",
    "print(x[:10])\n",
    "bins = 10\n",
    "\n",
    "# use weights 1/sample_size to show the %s.\n",
    "plt.hist(x, bins=bins, density=1, weights=np.ones_like(x)/x.shape[0])\n",
    "\n",
    "plt.show()\n"
   ],
   "metadata": {
    "collapsed": false,
    "pycharm": {
     "name": "#%%\n"
    }
   }
  },
  {
   "cell_type": "code",
   "execution_count": null,
   "outputs": [],
   "source": [],
   "metadata": {
    "collapsed": false,
    "pycharm": {
     "name": "#%%"
    }
   }
  },
  {
   "cell_type": "markdown",
   "source": [
    "# 1.3 The Guassian (Normal) Distribution\n",
    "\n",
    "The important variables are: Mean (mu) and Variance (sigma_squared)\n",
    "\n",
    "pdf = N(mu, sigma_squared) describes the normal distribution\n",
    "\n",
    "Mean = mu = Sum(x(t)) * 1/n\n",
    "Variance = sigma_squared = Sum( (x(t) - mu)^2 ) * 1/n"
   ],
   "metadata": {
    "collapsed": false,
    "pycharm": {
     "name": "#%% md\n"
    }
   }
  },
  {
   "cell_type": "code",
   "execution_count": 30,
   "outputs": [
    {
     "name": "stdout",
     "output_type": "stream",
     "text": [
      "7.433597573671489e-07\n"
     ]
    }
   ],
   "source": [
    "from scipy.stats import norm\n",
    "# https://docs.scipy.org/doc/scipy/reference/generated/scipy.stats.norm.html\n",
    "std = 2.0\n",
    "variance = std ** 2\n",
    "mu = 0.0\n",
    "print(norm.pdf(x=10,loc=mu,scale=std))"
   ],
   "metadata": {
    "collapsed": false,
    "pycharm": {
     "name": "#%%\n"
    }
   }
  },
  {
   "cell_type": "markdown",
   "source": [
    "# 1.4 Modification of a Normal distribution with a linear function\n",
    "\n",
    "If we modify $$N(\\mu, {{\\sigma}}^2)$$ with f(x) = mx + b\n",
    "we get $$N(\\mu * {{\\mu}}^2, {{\\sigma}}^2 * {{m}}^2$$)\n",
    "\n",
    "The resultant distribution is also a Normal distribution."
   ],
   "metadata": {
    "collapsed": false,
    "pycharm": {
     "name": "#%% md\n"
    }
   }
  },
  {
   "cell_type": "code",
   "execution_count": 29,
   "outputs": [
    {
     "data": {
      "text/plain": "3"
     },
     "execution_count": 29,
     "metadata": {},
     "output_type": "execute_result"
    }
   ],
   "source": [],
   "metadata": {
    "collapsed": false,
    "pycharm": {
     "name": "#%%\n"
    }
   }
  }
 ],
 "metadata": {
  "kernelspec": {
   "display_name": "Python 3",
   "language": "python",
   "name": "python3"
  },
  "language_info": {
   "codemirror_mode": {
    "name": "ipython",
    "version": 2
   },
   "file_extension": ".py",
   "mimetype": "text/x-python",
   "name": "python",
   "nbconvert_exporter": "python",
   "pygments_lexer": "ipython2",
   "version": "2.7.6"
  }
 },
 "nbformat": 4,
 "nbformat_minor": 0
}
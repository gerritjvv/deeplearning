{
 "cells": [
  {
   "cell_type": "code",
   "execution_count": null,
   "outputs": [],
   "source": [],
   "metadata": {
    "collapsed": false,
    "pycharm": {
     "name": "#%%\n"
    }
   }
  },
  {
   "cell_type": "markdown",
   "source": [
    "# Overview\n",
    "\n",
    "The aim here is to take two sources of information\n",
    "and combine them into a new source, so that the result is more accurate.\n",
    "\n",
    "We define our data using:\n",
    "  * a function e.g $$x$$ has values $$x(t), x(t+1)...$$\n",
    "    The function has shape: $$x(t+t) = F(t)x(t) + G(t)u(t)$$\n",
    "    where $$F$$ and $$G$$ are linear transformations, and $$u$$ models noise.\n",
    "  * and normal distribution $$N(\\mu, covariance)$$ with its covariance matrix $$P$$\n",
    "\n",
    "If we have a basic prediction model and a separate measurements source,\n",
    "we can combine the measurements source into the prediction model to enrich it.\n",
    "\n",
    "We can model the measurements source as:\n",
    "\n",
    "$$z(t) = H(t)x(t)$$, where $$H$$ describes how $$x$$ relates to $$z$$ for any value of $$x$$\n",
    "\n",
    "# Predict & Enrich\n",
    "\n",
    "We \"predict\" or calculate the next value for $x$ using:\n",
    "\n",
    "$$x_B = x(t+1) = F(t)x(t) + G(t)u(t)$$\n",
    "\n",
    "$$P_B = P(t+1) = F(t)P(t)F(x)^T + Q(t)$$\n",
    "\n",
    "\n",
    "$$P$$ is the covariance for $$x$$ and $$Q$$ is the covariance for the noise $$u$$.\n",
    "$$F$$ and $$G$$ define linear transformation matrices.\n",
    "\n",
    "Then we \"enrich\" by combining the measurements:\n",
    "\n",
    "$$X_A = X_b + K_G(z - Hx_B)$$\n",
    "\n",
    "$$P_A = P_B - K_GHP_B$$\n",
    "\n",
    "Where $$K_G = P_BH^T(HP^BH^T + R){-1}$$\n",
    "\n",
    "The above equations are derived by first calculating $$x$$ in terms of $$z$$,\n",
    "combining $$N_{zx} and N_{z}$$ and then rearranging the equations in terms of $$x$$ again (see Appendix B).\n",
    "\n",
    "The result is a generalised way of taking a multi variate model and then enriching it with another\n",
    "multi variate model. Either both can be theoretical calculations or real observations. The only requirements are that\n",
    "we have a way to move from model x to model z, and that both are normal distributions.\n",
    "\n",
    "\n",
    "# Appendix\n",
    "\n",
    "## A. Apply a a linear transformation to a covariance matrix\n",
    "\n",
    "Applying matrix $$F$$ to the covariance matrix $$P$$, do $$FPF^T$$.\n",
    "\n",
    "## B. Enriching a model with a separate source of information\n",
    "\n",
    "We have our main model as:\n",
    "\n",
    "$$x_B = x(t+t) = F(t)x(t) + G(t)u(t)$$ and $$N(x, P)$$,\n",
    "\n",
    "our new source of information is $$z$$ and $$x$$ relates to $$z$$ using $$z=H(t)x$$.\n",
    "$$z$$ has a distribution modeled by $$N(z, R)$$ where $$R$$ is $$z$$'s covariance matrix.\n",
    "\n",
    "To combine the two normal distributions i.e for $$x$$ and for $$z$$ we firstly state $$N(x, P)$$\n",
    "in terms of $z$ as: $$N( Hx, HPH^T )$$\n",
    "\n",
    "Then we combine the two distributions by operating on their mean $$Hx$$ and $$z$$ vectors and\n",
    "on their covariance matrices $$HPH^T$$ and $$R$$ as:\n",
    "\n",
    "$$N_z(z, R) \\times  N_z(Hx, HPH^T) = \\\\~\\\\N_z(x_{zA}= Hx + K(z - Hx), \\\\~\\\\P_{zA}= HPH^T -  KHP_BH^T)$$\n",
    "\n",
    "Where $$K = HP_BH^T(HP_BH^T + R)^{-1}$$\n",
    "\n",
    "Now we have the enriched distribution, but we need it in terms of $$N_x$$ and not $$N_z$$,\n",
    "to do this we have re-arrange the equations for $$X_{zA}$$ and $$P_{zA}$$\n"
   ],
   "metadata": {
    "collapsed": false
   }
  },
  {
   "cell_type": "code",
   "source": [],
   "metadata": {
    "collapsed": false,
    "pycharm": {
     "name": "#%%\n"
    }
   },
   "execution_count": null,
   "outputs": []
  }
 ],
 "metadata": {
  "kernelspec": {
   "display_name": "Python 3",
   "language": "python",
   "name": "python3"
  },
  "language_info": {
   "codemirror_mode": {
    "name": "ipython",
    "version": 2
   },
   "file_extension": ".py",
   "mimetype": "text/x-python",
   "name": "python",
   "nbconvert_exporter": "python",
   "pygments_lexer": "ipython2",
   "version": "2.7.6"
  }
 },
 "nbformat": 4,
 "nbformat_minor": 0
}
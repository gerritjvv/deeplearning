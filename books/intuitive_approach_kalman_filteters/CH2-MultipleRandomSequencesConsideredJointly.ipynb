{
 "cells": [
  {
   "cell_type": "markdown",
   "metadata": {
    "collapsed": true,
    "pycharm": {
     "name": "#%% md\n"
    }
   },
   "source": [
    "# 2.1 Joint distributions -- Bivariate Case\n",
    "\n",
    "Two random variables can be expressed separated as:"
   ]
  },
  {
   "cell_type": "markdown",
   "source": [
    "$$ x_{1}(t) $$, with: $$\\mu_{1}$$, $$\\sigma^{2}_{1}$$  and\n",
    "$$ x_{2}(t) $$, with: $$\\mu_{1}$$, $$\\sigma^{2}_{1}$$\n",
    "\n",
    "A N-dimensional frequency graph is used to describe the two variables.\n",
    "For a 2-D graph we start by defining the bins as squares, with in which each value of $$x_{1}(t)$$ and $$x_{2}(t)$$ falls in.\n"
   ],
   "metadata": {
    "collapsed": false,
    "pycharm": {
     "name": "#%% md\n"
    }
   }
  },
  {
   "cell_type": "code",
   "execution_count": 11,
   "outputs": [
    {
     "data": {
      "text/plain": "<Figure size 432x288 with 2 Axes>",
      "image/png": "[encoded data removed]"
     },
     "metadata": {},
     "output_type": "display_data"
    }
   ],
   "source": [
    "import matplotlib.pyplot as plt\n",
    "import numpy as np\n",
    "plt.style.use('seaborn-white')\n",
    "\n",
    "\n",
    "\n",
    "mean = [0,0]\n",
    "cov = [[1,1], [1,2]]\n",
    "\n",
    "x1, x2 = np.random.multivariate_normal(mean, cov, 10000).T\n",
    "\n",
    "\n",
    "plt.hist2d(x1, x2, bins=30, cmap='Blues')\n",
    "cb = plt.colorbar()\n",
    "cb.set_label('counts in bin')\n"
   ],
   "metadata": {
    "collapsed": false,
    "pycharm": {
     "name": "#%%\n"
    }
   }
  },
  {
   "cell_type": "markdown",
   "source": [
    "# 2.2 Bivariate Guassian Distribution Covariance and Correlation\n",
    "\n",
    "The normal distribution of 2 random variables is given by:\n",
    "\n",
    "$$p(x_{1},x_{2}) = \\frac {1}{(2\\pi\\sigma_{1}\\sigma_{2}\\sqrt[]{1-p^{2}})} exp[ \\frac{-x}{2(1-p^{2})} ]$$\n",
    "\n",
    "where z is:\n",
    "\n",
    "$$z=\\frac{(x_{1}-\\mu_{1})^2}{\\sigma_{1}^2} - \\frac {2p(x_{1}-\\mu_{1})(x_{2}-\\mu_{2})} {\\sigma_{1}\\sigma_{2}} + \\frac {(x_{2}-\\mu_{2})^2} {\\sigma_2^2}$$\n",
    "\n",
    "`z` is the correlation coefficient.\n",
    "\n",
    "See: https://scipython.com/blog/visualizing-the-bivariate-gaussian-distribution/\n",
    "\n",
    "## Covariance\n",
    "\n",
    "Covariance is similar to Variance, but where in Variance we use squaring of the difference between $$x$$ and $$\\mu$$ to remove\n",
    "the influence of negative vs positive values, in Covariance we do not.\n",
    "\n",
    "$$Cov(x_1,x_2)=\\frac{1}{N}\\sum_{i=1}^{N}(x_1(t)-\\mu_1)(x_2(t)-\\mu_2)$$\n",
    "\n",
    "Here some products will have positive and others will have negative contributions to the summations.\n",
    "  * A large positive Covariance means both variables take a value above their mean with respect to each other.\n",
    "  * A large negative Covariance means both variables have a opposite effect on each other in relation to distances from their mean.\n",
    "  * A Covariance value close to zero would mean both variables do not have must coordination between them.\n",
    "\n",
    "The correlation between $$x_1$$ and $$x_2$$ is nothing more than the normalization of the Covariance.\n",
    "\n",
    "$$p(x_1,x_2)=\\frac{COV(x_1,x_2)}{\\sigma_1\\sigma_2}$$\n",
    "\n",
    "With normalisation, we can deal with COV variables in -1 to -1, instead of very large, very small values.\n",
    "\n",
    "# 2.3 Covariance Matrix\n",
    "\n",
    "We can characterise a bivariate distribution with a Covariance Matrix.\n",
    "\n",
    "$$\\sum_{x_1,x_2}=$$\n",
    "\\begin{bmatrix}\n",
    "       \\sigma_1^2 & COV(x_1,x_2) \\\\[0.3em]\n",
    "       COV(x_2,x_1) & \\sigma_2^2 \\\\[0.3em]\n",
    "     \\end{bmatrix}\n",
    "\n",
    "\n",
    "The diagonal is the Variance.\n"
   ],
   "metadata": {
    "collapsed": false,
    "pycharm": {
     "name": "#%% md\n"
    }
   }
  }
 ],
 "metadata": {
  "kernelspec": {
   "display_name": "Python 3",
   "language": "python",
   "name": "python3"
  },
  "language_info": {
   "codemirror_mode": {
    "name": "ipython",
    "version": 2
   },
   "file_extension": ".py",
   "mimetype": "text/x-python",
   "name": "python",
   "nbconvert_exporter": "python",
   "pygments_lexer": "ipython2",
   "version": "2.7.6"
  }
 },
 "nbformat": 4,
 "nbformat_minor": 0
}